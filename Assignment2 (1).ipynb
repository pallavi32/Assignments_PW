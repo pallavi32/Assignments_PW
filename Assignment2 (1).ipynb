{
 "cells": [
  {
   "cell_type": "markdown",
   "id": "df186b55-3378-489f-905d-9b16f0d38c63",
   "metadata": {},
   "source": [
    "## Q1. How do you comment code in Python? What are the different types of comments?"
   ]
  },
  {
   "cell_type": "code",
   "execution_count": null,
   "id": "b5bfa84c-6537-44bf-977d-fa48aedfec38",
   "metadata": {},
   "outputs": [],
   "source": [
    "# ->Single-Line Comments\n",
    "\n"
   ]
  },
  {
   "cell_type": "code",
   "execution_count": 1,
   "id": "9fa4e095-8490-4385-9006-65f245d35a60",
   "metadata": {},
   "outputs": [],
   "source": [
    "name = 'Eric Cartman' # name is a string"
   ]
  },
  {
   "cell_type": "code",
   "execution_count": 2,
   "id": "f182a16e-c19c-4026-bd76-8b28d504ba1a",
   "metadata": {},
   "outputs": [],
   "source": [
    "# Multi-line Comment in Python"
   ]
  },
  {
   "cell_type": "code",
   "execution_count": 3,
   "id": "4939d335-b74b-4166-bde3-33598e17ba95",
   "metadata": {},
   "outputs": [],
   "source": [
    "# This is a long comment\n",
    "# and it extends\n",
    "# to multiple lines"
   ]
  },
  {
   "cell_type": "markdown",
   "id": "eeb75308-345d-42e3-843b-8cce312c13a0",
   "metadata": {},
   "source": [
    "# or"
   ]
  },
  {
   "cell_type": "code",
   "execution_count": 4,
   "id": "7f5ccc23-e04a-4c0e-9571-c44f0f14a1eb",
   "metadata": {},
   "outputs": [
    {
     "data": {
      "text/plain": [
       "' This is also a\\nperfect example of\\nmulti-line comments '"
      ]
     },
     "execution_count": 4,
     "metadata": {},
     "output_type": "execute_result"
    }
   ],
   "source": [
    "''' This is also a\n",
    "perfect example of\n",
    "multi-line comments '''"
   ]
  },
  {
   "cell_type": "markdown",
   "id": "66011e99-3465-4ba2-b74c-98ad30dbeae9",
   "metadata": {},
   "source": [
    "\n",
    "## Q2. What are variables in Python? How do you declare and assign values to variables?"
   ]
  },
  {
   "cell_type": "code",
   "execution_count": 6,
   "id": "c9d2ee4b-c2ac-4dd7-9571-6bcab40b83b5",
   "metadata": {},
   "outputs": [],
   "source": [
    "a=10"
   ]
  },
  {
   "cell_type": "code",
   "execution_count": 7,
   "id": "da98ef09-21e4-45d1-9c72-d20b8358b81b",
   "metadata": {},
   "outputs": [
    {
     "data": {
      "text/plain": [
       "int"
      ]
     },
     "execution_count": 7,
     "metadata": {},
     "output_type": "execute_result"
    }
   ],
   "source": [
    "type(a)"
   ]
  },
  {
   "cell_type": "code",
   "execution_count": 8,
   "id": "97338be1-55c9-45ce-8136-a44638e3a50f",
   "metadata": {},
   "outputs": [],
   "source": [
    "f=1.5"
   ]
  },
  {
   "cell_type": "code",
   "execution_count": 9,
   "id": "76943a8a-6708-4f1a-8e92-d4c1b0402733",
   "metadata": {},
   "outputs": [
    {
     "data": {
      "text/plain": [
       "float"
      ]
     },
     "execution_count": 9,
     "metadata": {},
     "output_type": "execute_result"
    }
   ],
   "source": [
    "type(f)"
   ]
  },
  {
   "cell_type": "code",
   "execution_count": 10,
   "id": "d419f5d2-e3c7-464c-a725-36c9aa95f13f",
   "metadata": {},
   "outputs": [],
   "source": [
    "s='BMSCE'"
   ]
  },
  {
   "cell_type": "code",
   "execution_count": 11,
   "id": "6289a979-3868-477d-9914-9aea47c91660",
   "metadata": {},
   "outputs": [
    {
     "data": {
      "text/plain": [
       "str"
      ]
     },
     "execution_count": 11,
     "metadata": {},
     "output_type": "execute_result"
    }
   ],
   "source": [
    "type(s)"
   ]
  },
  {
   "cell_type": "markdown",
   "id": "2e10bbdd-055b-4352-9306-58b9bd63112b",
   "metadata": {},
   "source": [
    "## Q3.How do you convert one data type to another in Python?"
   ]
  },
  {
   "cell_type": "code",
   "execution_count": 13,
   "id": "5673e4a6-59bd-4de7-8c55-150299fd5e13",
   "metadata": {},
   "outputs": [
    {
     "name": "stdin",
     "output_type": "stream",
     "text": [
      "Enter the age of a person 18\n"
     ]
    }
   ],
   "source": [
    "name=input(\"Enter the age of a person\")"
   ]
  },
  {
   "cell_type": "code",
   "execution_count": 14,
   "id": "39e38c26-3190-44e4-ace7-523d7aa2c311",
   "metadata": {},
   "outputs": [
    {
     "data": {
      "text/plain": [
       "str"
      ]
     },
     "execution_count": 14,
     "metadata": {},
     "output_type": "execute_result"
    }
   ],
   "source": [
    "type(name)\n"
   ]
  },
  {
   "cell_type": "markdown",
   "id": "89b3b756-8b20-4131-9a96-e30f518a0c3e",
   "metadata": {},
   "source": []
  },
  {
   "cell_type": "code",
   "execution_count": 16,
   "id": "335396f7-eab2-4012-9e2b-6e108eb6c347",
   "metadata": {},
   "outputs": [
    {
     "name": "stdin",
     "output_type": "stream",
     "text": [
      "Enter the age of a person 18\n"
     ]
    }
   ],
   "source": [
    "name=int(input(\"Enter the age of a person\"))"
   ]
  },
  {
   "cell_type": "code",
   "execution_count": 17,
   "id": "0f0b6eb2-6234-4dc7-bf75-aae1f134440e",
   "metadata": {},
   "outputs": [
    {
     "data": {
      "text/plain": [
       "int"
      ]
     },
     "execution_count": 17,
     "metadata": {},
     "output_type": "execute_result"
    }
   ],
   "source": [
    "type(name)"
   ]
  },
  {
   "cell_type": "markdown",
   "id": "c0262aab-f042-4541-91ec-091c34751f93",
   "metadata": {},
   "source": [
    "## Q4. How do you write and execute a Python script from the command line?"
   ]
  },
  {
   "cell_type": "markdown",
   "id": "34203588-8fc1-490d-8be4-f51129d00518",
   "metadata": {},
   "source": [
    "\n"
   ]
  },
  {
   "cell_type": "markdown",
   "id": "2f6e7259-add0-46c5-b6e5-049cbb214488",
   "metadata": {},
   "source": [
    "## Q5. Given a list my_list = [1, 2, 3, 4, 5], write the code to slice the list and obtain the sub-list [2, 3]."
   ]
  },
  {
   "cell_type": "code",
   "execution_count": 20,
   "id": "6ac1084e-8e21-411f-8d77-16fa852189e3",
   "metadata": {},
   "outputs": [],
   "source": [
    "my_list = [1,2,3,4,5]"
   ]
  },
  {
   "cell_type": "code",
   "execution_count": 25,
   "id": "bd6cfcd1-4d2d-4bec-b3f1-1be99084beab",
   "metadata": {},
   "outputs": [
    {
     "data": {
      "text/plain": [
       "[2, 3]"
      ]
     },
     "execution_count": 25,
     "metadata": {},
     "output_type": "execute_result"
    }
   ],
   "source": [
    "my_list[1:3]"
   ]
  },
  {
   "cell_type": "markdown",
   "id": "6a7ae52c-bc29-46da-abce-ac2b6ebfe3cb",
   "metadata": {},
   "source": [
    "## Q6. What is a complex number in mathematics, and how is it represented in Python?"
   ]
  },
  {
   "cell_type": "code",
   "execution_count": 27,
   "id": "0ae8645c-087a-4985-b560-c3e7ade9e0e3",
   "metadata": {},
   "outputs": [
    {
     "data": {
      "text/plain": [
       "'Complex numbers are created from two real numbers. You can create it directly or you can use the complex function. It is written in the form of (x + yj) where x and y are real numbers and j is an imaginary number which is the square root of -1.'"
      ]
     },
     "execution_count": 27,
     "metadata": {},
     "output_type": "execute_result"
    }
   ],
   "source": [
    "'''Complex numbers are created from two real numbers. You can create it directly or you can use the complex function. It is written in the form of (x + yj) where x and y are real numbers and j is an imaginary number which is the square root of -1.'''"
   ]
  },
  {
   "cell_type": "markdown",
   "id": "b5e34e73-ddc3-4cde-98c4-f6f1ab4c2ec3",
   "metadata": {},
   "source": [
    "## complex([real[, imag]])"
   ]
  },
  {
   "cell_type": "code",
   "execution_count": 28,
   "id": "b84e2dd4-068c-487d-bf27-dfc7fb654cbe",
   "metadata": {},
   "outputs": [
    {
     "name": "stdout",
     "output_type": "stream",
     "text": [
      "Output: (5+7j)\n"
     ]
    }
   ],
   "source": [
    "z = complex(5, 7)\n",
    "print(\"Output:\", z)"
   ]
  },
  {
   "cell_type": "markdown",
   "id": "480da49c-538e-4cd8-abc5-267f81f46cc3",
   "metadata": {},
   "source": [
    "## Q7. What is the correct way to declare a variable named age and assign the value 25 to it?"
   ]
  },
  {
   "cell_type": "code",
   "execution_count": null,
   "id": "535f5eb3-99c2-4f7f-9cad-ae197d0a2199",
   "metadata": {},
   "outputs": [],
   "source": []
  },
  {
   "cell_type": "code",
   "execution_count": 30,
   "id": "1052a785-6035-425e-9624-f9237f63ea6e",
   "metadata": {},
   "outputs": [
    {
     "name": "stdin",
     "output_type": "stream",
     "text": [
      "Enter the age 21\n"
     ]
    }
   ],
   "source": [
    "age=input(\"Enter the age\")"
   ]
  },
  {
   "cell_type": "code",
   "execution_count": 31,
   "id": "31e6946a-28aa-4c18-84fb-673937db9de4",
   "metadata": {},
   "outputs": [
    {
     "data": {
      "text/plain": [
       "'21'"
      ]
     },
     "execution_count": 31,
     "metadata": {},
     "output_type": "execute_result"
    }
   ],
   "source": [
    "age"
   ]
  },
  {
   "cell_type": "markdown",
   "id": "f4be072b-efae-43a2-9385-ee68cfbfdd0f",
   "metadata": {},
   "source": [
    "## Q8. Declare a variable named price and assign the value 9.99 to it. What data type does this variable belong to?"
   ]
  },
  {
   "cell_type": "code",
   "execution_count": 32,
   "id": "31d9cd78-c374-4bba-bd49-0676944f6a56",
   "metadata": {},
   "outputs": [],
   "source": [
    "price=9.99"
   ]
  },
  {
   "cell_type": "code",
   "execution_count": 33,
   "id": "5aa19d74-7491-4138-8d2e-f6a62ac9c608",
   "metadata": {},
   "outputs": [
    {
     "data": {
      "text/plain": [
       "float"
      ]
     },
     "execution_count": 33,
     "metadata": {},
     "output_type": "execute_result"
    }
   ],
   "source": [
    "type(price)\n"
   ]
  },
  {
   "cell_type": "markdown",
   "id": "6cc0920a-ab41-4775-ae02-7670dbf31500",
   "metadata": {},
   "source": [
    "## Q9. Create a variable named name and assign your full name to it as a string. How would you print the value of this variable?"
   ]
  },
  {
   "cell_type": "code",
   "execution_count": 34,
   "id": "a7927064-c25f-4113-bbbc-b8e8b7690f87",
   "metadata": {},
   "outputs": [],
   "source": [
    "name=\"Pallavi\""
   ]
  },
  {
   "cell_type": "code",
   "execution_count": 35,
   "id": "311a0d56-6a62-4e71-8ed2-00ddfef15383",
   "metadata": {},
   "outputs": [
    {
     "data": {
      "text/plain": [
       "'Pallavi'"
      ]
     },
     "execution_count": 35,
     "metadata": {},
     "output_type": "execute_result"
    }
   ],
   "source": [
    "name"
   ]
  },
  {
   "cell_type": "markdown",
   "id": "d587d69f-827c-46f5-adee-ef9c2af8fb3c",
   "metadata": {},
   "source": [
    "## Q10. Given the string \"Hello, World!\", extract the substring \"World\"."
   ]
  },
  {
   "cell_type": "code",
   "execution_count": 36,
   "id": "319c2652-b9ec-418d-a3e2-b620b9dea750",
   "metadata": {},
   "outputs": [],
   "source": [
    "str=\"Hello,World!\""
   ]
  },
  {
   "cell_type": "code",
   "execution_count": 37,
   "id": "b1323137-7236-4569-84d6-26f65f7f4114",
   "metadata": {},
   "outputs": [
    {
     "data": {
      "text/plain": [
       "'Hello,World!'"
      ]
     },
     "execution_count": 37,
     "metadata": {},
     "output_type": "execute_result"
    }
   ],
   "source": [
    "str"
   ]
  },
  {
   "cell_type": "code",
   "execution_count": 41,
   "id": "55ef445c-a931-4732-915e-a864b49fd09e",
   "metadata": {},
   "outputs": [
    {
     "data": {
      "text/plain": [
       "'World'"
      ]
     },
     "execution_count": 41,
     "metadata": {},
     "output_type": "execute_result"
    }
   ],
   "source": [
    "str[6:11]"
   ]
  },
  {
   "cell_type": "markdown",
   "id": "346afb03-62a4-4ba2-9ecb-1c83f646ea51",
   "metadata": {},
   "source": [
    "## Q11. Create a variable named \"is_student\" and assign it a boolean value indicating whether you are currently a student or not."
   ]
  },
  {
   "cell_type": "code",
   "execution_count": 45,
   "id": "65988c11-f7c7-4d79-8671-707156a5d27e",
   "metadata": {},
   "outputs": [],
   "source": [
    "is_student=False\n",
    "\n",
    "   \n",
    "        "
   ]
  },
  {
   "cell_type": "code",
   "execution_count": 46,
   "id": "389696ce-dec4-4124-bf3c-cc0742b87139",
   "metadata": {},
   "outputs": [
    {
     "data": {
      "text/plain": [
       "False"
      ]
     },
     "execution_count": 46,
     "metadata": {},
     "output_type": "execute_result"
    }
   ],
   "source": [
    "is_student"
   ]
  },
  {
   "cell_type": "code",
   "execution_count": null,
   "id": "dc96a039-f2eb-4fd0-b50a-793bd93332de",
   "metadata": {},
   "outputs": [],
   "source": []
  }
 ],
 "metadata": {
  "kernelspec": {
   "display_name": "Python 3 (ipykernel)",
   "language": "python",
   "name": "python3"
  },
  "language_info": {
   "codemirror_mode": {
    "name": "ipython",
    "version": 3
   },
   "file_extension": ".py",
   "mimetype": "text/x-python",
   "name": "python",
   "nbconvert_exporter": "python",
   "pygments_lexer": "ipython3",
   "version": "3.10.8"
  }
 },
 "nbformat": 4,
 "nbformat_minor": 5
}
