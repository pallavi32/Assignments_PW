{
 "cells": [
  {
   "cell_type": "markdown",
   "id": "32081392-f149-4493-99d7-6bc5e290817a",
   "metadata": {},
   "source": [
    "# Q1"
   ]
  },
  {
   "cell_type": "code",
   "execution_count": 7,
   "id": "e47440f1-aa1d-4aae-b424-bcb30934d62d",
   "metadata": {},
   "outputs": [],
   "source": [
    "name=\"Pallavi\""
   ]
  },
  {
   "cell_type": "code",
   "execution_count": 8,
   "id": "0f3cee0c-0921-40d4-b36d-e492444a812f",
   "metadata": {},
   "outputs": [
    {
     "data": {
      "text/plain": [
       "'Pallavi'"
      ]
     },
     "execution_count": 8,
     "metadata": {},
     "output_type": "execute_result"
    }
   ],
   "source": [
    "name"
   ]
  },
  {
   "cell_type": "code",
   "execution_count": 1,
   "id": "b0bb7ebd-4a04-4177-b531-1a4e193854e2",
   "metadata": {},
   "outputs": [],
   "source": [
    "l=[1,2,3,4,5,\"Pallavi\"]"
   ]
  },
  {
   "cell_type": "code",
   "execution_count": 2,
   "id": "a1001054-508d-4303-9b71-9791cff7b8d5",
   "metadata": {},
   "outputs": [
    {
     "data": {
      "text/plain": [
       "list"
      ]
     },
     "execution_count": 2,
     "metadata": {},
     "output_type": "execute_result"
    }
   ],
   "source": [
    "type(l)"
   ]
  },
  {
   "cell_type": "code",
   "execution_count": 3,
   "id": "e7259ab5-6375-4900-bd8f-3930413af69e",
   "metadata": {},
   "outputs": [],
   "source": [
    "decimal=0.5"
   ]
  },
  {
   "cell_type": "code",
   "execution_count": 4,
   "id": "2026c4bc-7c02-47bc-9e89-843de8c81eb7",
   "metadata": {},
   "outputs": [
    {
     "data": {
      "text/plain": [
       "float"
      ]
     },
     "execution_count": 4,
     "metadata": {},
     "output_type": "execute_result"
    }
   ],
   "source": [
    "type(decimal)"
   ]
  },
  {
   "cell_type": "code",
   "execution_count": 5,
   "id": "2db5f1ac-485a-4057-90ee-47790c8437c3",
   "metadata": {},
   "outputs": [],
   "source": [
    "t=(1,2,3,4)"
   ]
  },
  {
   "cell_type": "code",
   "execution_count": 6,
   "id": "d607153c-f2b3-4953-87b6-662c2509e449",
   "metadata": {},
   "outputs": [
    {
     "data": {
      "text/plain": [
       "tuple"
      ]
     },
     "execution_count": 6,
     "metadata": {},
     "output_type": "execute_result"
    }
   ],
   "source": [
    "type(t)"
   ]
  },
  {
   "cell_type": "markdown",
   "id": "fc548c92-0973-41c6-ba8d-e10485a2f2bd",
   "metadata": {},
   "source": [
    "# Q2"
   ]
  },
  {
   "cell_type": "code",
   "execution_count": 10,
   "id": "eb9e70f0-21f9-461e-8e12-683d54382da1",
   "metadata": {},
   "outputs": [],
   "source": [
    "var1=''"
   ]
  },
  {
   "cell_type": "code",
   "execution_count": 11,
   "id": "72c34a2c-75b8-4cd3-90a2-58b8c650ab36",
   "metadata": {},
   "outputs": [
    {
     "data": {
      "text/plain": [
       "str"
      ]
     },
     "execution_count": 11,
     "metadata": {},
     "output_type": "execute_result"
    }
   ],
   "source": [
    "type(var1)\n"
   ]
  },
  {
   "cell_type": "code",
   "execution_count": 12,
   "id": "8bc90cff-be46-46f9-a645-53d546581f63",
   "metadata": {},
   "outputs": [],
   "source": [
    "var2='[DS,ML,Python]'"
   ]
  },
  {
   "cell_type": "code",
   "execution_count": 13,
   "id": "48633370-e904-498d-912c-d27e1a184544",
   "metadata": {},
   "outputs": [
    {
     "data": {
      "text/plain": [
       "str"
      ]
     },
     "execution_count": 13,
     "metadata": {},
     "output_type": "execute_result"
    }
   ],
   "source": [
    "type(var2)"
   ]
  },
  {
   "cell_type": "code",
   "execution_count": 15,
   "id": "eb27e00e-fdcc-4588-814d-ff9b9678f76e",
   "metadata": {},
   "outputs": [],
   "source": [
    "var3=['DS','ML','Python']"
   ]
  },
  {
   "cell_type": "code",
   "execution_count": 16,
   "id": "8c55c4b4-3240-4f9a-824d-92fb71e35f6e",
   "metadata": {},
   "outputs": [
    {
     "data": {
      "text/plain": [
       "list"
      ]
     },
     "execution_count": 16,
     "metadata": {},
     "output_type": "execute_result"
    }
   ],
   "source": [
    "type(var3)"
   ]
  },
  {
   "cell_type": "code",
   "execution_count": 17,
   "id": "9b80f31f-030e-411c-ab3c-3c6fb62761f8",
   "metadata": {},
   "outputs": [],
   "source": [
    "var4=1"
   ]
  },
  {
   "cell_type": "code",
   "execution_count": 18,
   "id": "ecb0d940-26f3-4ace-ac10-09e313818d70",
   "metadata": {},
   "outputs": [
    {
     "data": {
      "text/plain": [
       "int"
      ]
     },
     "execution_count": 18,
     "metadata": {},
     "output_type": "execute_result"
    }
   ],
   "source": [
    "type(var4)"
   ]
  },
  {
   "cell_type": "markdown",
   "id": "70b9cca3-e836-405d-b55a-925c90f79f7a",
   "metadata": {},
   "source": [
    "# Q3"
   ]
  },
  {
   "cell_type": "code",
   "execution_count": 22,
   "id": "ed8c24fd-18db-4c36-bc4c-9a5f40db295e",
   "metadata": {},
   "outputs": [],
   "source": [
    "# i) Division -/"
   ]
  },
  {
   "cell_type": "code",
   "execution_count": 23,
   "id": "b16169cb-978f-4804-8b6d-5d015ebe2992",
   "metadata": {},
   "outputs": [
    {
     "name": "stdout",
     "output_type": "stream",
     "text": [
      "4.0\n"
     ]
    }
   ],
   "source": [
    "x = 12\n",
    "y = 3\n",
    "\n",
    "print(x / y)"
   ]
  },
  {
   "cell_type": "code",
   "execution_count": 24,
   "id": "cfceffff-be1e-410d-bb1a-23100294d0d8",
   "metadata": {},
   "outputs": [],
   "source": [
    "# ii) \tModulus %"
   ]
  },
  {
   "cell_type": "code",
   "execution_count": 25,
   "id": "ca1ae936-a7c3-473d-8b28-a85655e86f92",
   "metadata": {},
   "outputs": [
    {
     "name": "stdout",
     "output_type": "stream",
     "text": [
      "1\n"
     ]
    }
   ],
   "source": [
    "x = 5\n",
    "y = 2\n",
    "\n",
    "print(x % y)"
   ]
  },
  {
   "cell_type": "code",
   "execution_count": 26,
   "id": "d5e3a0f3-2798-4f3f-a6fe-a86c15cd0dc9",
   "metadata": {},
   "outputs": [],
   "source": [
    "# iii) Floor division //\n"
   ]
  },
  {
   "cell_type": "code",
   "execution_count": 27,
   "id": "effdcc58-4aea-4f4a-870c-1fe54452d00f",
   "metadata": {},
   "outputs": [
    {
     "name": "stdout",
     "output_type": "stream",
     "text": [
      "7\n"
     ]
    }
   ],
   "source": [
    "x = 15\n",
    "y = 2\n",
    "\n",
    "print(x // y)"
   ]
  },
  {
   "cell_type": "code",
   "execution_count": 28,
   "id": "51b021f5-c1c2-4622-8085-0b7c07206132",
   "metadata": {},
   "outputs": [],
   "source": [
    "# iV) Exponentiation **"
   ]
  },
  {
   "cell_type": "code",
   "execution_count": 29,
   "id": "25c65cfe-fa67-47aa-bb06-403d6db4f6fb",
   "metadata": {},
   "outputs": [
    {
     "name": "stdout",
     "output_type": "stream",
     "text": [
      "25\n"
     ]
    }
   ],
   "source": [
    "x = 5\n",
    "y = 2\n",
    "\n",
    "print(x ** y)"
   ]
  },
  {
   "cell_type": "markdown",
   "id": "4d105abe-05bf-4fa7-a7cf-a9726f67b0d6",
   "metadata": {},
   "source": [
    "## Q4"
   ]
  },
  {
   "cell_type": "code",
   "execution_count": 34,
   "id": "93de1e82-32dc-4ac0-9db3-933dc6bcf547",
   "metadata": {},
   "outputs": [],
   "source": [
    "l1=[1,2,3,4,5,\"Pallavi\",'BMSCE',(1,2,3),{1,2,3,4},[2,3,4]]"
   ]
  },
  {
   "cell_type": "code",
   "execution_count": 35,
   "id": "b9763dd8-3899-43fd-b102-406858d898a4",
   "metadata": {},
   "outputs": [
    {
     "data": {
      "text/plain": [
       "10"
      ]
     },
     "execution_count": 35,
     "metadata": {},
     "output_type": "execute_result"
    }
   ],
   "source": [
    "len(l1)"
   ]
  },
  {
   "cell_type": "code",
   "execution_count": 37,
   "id": "5ecfd052-ae9b-4bad-ab3a-796456b5c99a",
   "metadata": {},
   "outputs": [
    {
     "name": "stdout",
     "output_type": "stream",
     "text": [
      "1\n",
      "2\n",
      "3\n",
      "4\n",
      "5\n",
      "Pallavi\n",
      "BMSCE\n",
      "(1, 2, 3)\n",
      "{1, 2, 3, 4}\n",
      "[2, 3, 4]\n"
     ]
    }
   ],
   "source": [
    "for i in l1:\n",
    "    print(i)"
   ]
  },
  {
   "cell_type": "markdown",
   "id": "ecc50619-0507-4bc6-bbd4-8a19d279e16f",
   "metadata": {},
   "source": [
    "## Q5"
   ]
  },
  {
   "cell_type": "code",
   "execution_count": 1,
   "id": "62b9c66f-7a90-40d2-91a4-889c8bba5fe2",
   "metadata": {},
   "outputs": [
    {
     "name": "stdin",
     "output_type": "stream",
     "text": [
      "Enter a number:  12\n",
      "Enter a number:  13\n"
     ]
    },
    {
     "name": "stdout",
     "output_type": "stream",
     "text": [
      "0\n",
      "Not purely divisible\n"
     ]
    }
   ],
   "source": [
    "A = int(input('Enter a number: '))\n",
    "B = int(input('Enter a number: '))\n",
    "counter = 0\n",
    "while A % B == 0 and A != 0:\n",
    "    A = A / B\n",
    "    counter = counter + 1\n",
    "\n",
    "print(counter)\n",
    "if(counter > 0) :\n",
    "    print(\"Purely divisible\")\n",
    "else:\n",
    "    print(\"Not purely divisible\")"
   ]
  },
  {
   "cell_type": "markdown",
   "id": "4a3b9dcb-3cf5-4ae4-8988-6e0ae3622953",
   "metadata": {},
   "source": [
    "## Q6"
   ]
  },
  {
   "cell_type": "code",
   "execution_count": 2,
   "id": "a2f4325f-bc09-40e5-871a-06b13c1a1b31",
   "metadata": {},
   "outputs": [
    {
     "name": "stdout",
     "output_type": "stream",
     "text": [
      "3 not Div by : 1\n",
      "3 not Div by : 2\n",
      "3 Div by: 3\n",
      "3 not Div by : 4\n",
      "3 not Div by : 5\n",
      "3 Div by: 6\n",
      "3 not Div by : 7\n",
      "3 not Div by : 8\n",
      "3 Div by: 9\n",
      "3 not Div by : 10\n",
      "3 not Div by : 11\n",
      "3 Div by: 12\n",
      "3 not Div by : 13\n",
      "3 not Div by : 14\n",
      "3 Div by: 15\n",
      "3 not Div by : 16\n",
      "3 not Div by : 17\n",
      "3 Div by: 18\n",
      "3 not Div by : 19\n",
      "3 not Div by : 20\n",
      "3 Div by: 21\n",
      "3 not Div by : 22\n",
      "3 not Div by : 23\n",
      "3 Div by: 24\n",
      "3 not Div by : 25\n"
     ]
    }
   ],
   "source": [
    "n=3\n",
    "for i in range(1,26):\n",
    "        if (i%3==0):\n",
    "            print(\"3 Div by:\",i)\n",
    "        else:\n",
    "            print(\"3 not Div by :\",i) \n"
   ]
  },
  {
   "cell_type": "markdown",
   "id": "9c3efbb7-ba89-435a-a957-f965e4c60c3c",
   "metadata": {},
   "source": [
    "## Q7. What do you understand about mutable and immutable data types? Give examples for both showing\n",
    "this property."
   ]
  },
  {
   "cell_type": "markdown",
   "id": "aca88e91-85e9-49de-97a9-d4d779aa762f",
   "metadata": {},
   "source": [
    "\n",
    "## Ans:Mutable means modifiable and immutable means not modifiying \n"
   ]
  },
  {
   "cell_type": "code",
   "execution_count": 3,
   "id": "f016cb00-6f69-4619-967d-a98feec86220",
   "metadata": {},
   "outputs": [],
   "source": [
    "\n",
    "## Mutable\n",
    "list=[1,2,3,4,5]\n"
   ]
  },
  {
   "cell_type": "code",
   "execution_count": 4,
   "id": "99aecf72-326a-4ce8-a665-209ae7c7d1fc",
   "metadata": {},
   "outputs": [
    {
     "data": {
      "text/plain": [
       "[1, 2, 3, 4, 5]"
      ]
     },
     "execution_count": 4,
     "metadata": {},
     "output_type": "execute_result"
    }
   ],
   "source": [
    "list"
   ]
  },
  {
   "cell_type": "code",
   "execution_count": 5,
   "id": "28deeae4-f62a-48cc-83f1-71e4beb587e1",
   "metadata": {},
   "outputs": [
    {
     "data": {
      "text/plain": [
       "list"
      ]
     },
     "execution_count": 5,
     "metadata": {},
     "output_type": "execute_result"
    }
   ],
   "source": [
    "type(list)"
   ]
  },
  {
   "cell_type": "code",
   "execution_count": 6,
   "id": "6900aef0-626e-4403-a89a-21c06b1fdff8",
   "metadata": {},
   "outputs": [],
   "source": [
    "list[0]=1000"
   ]
  },
  {
   "cell_type": "code",
   "execution_count": 7,
   "id": "2cf98765-5fcc-42cb-bac3-878c5f9e6707",
   "metadata": {},
   "outputs": [],
   "source": [
    "## Immutable"
   ]
  },
  {
   "cell_type": "code",
   "execution_count": 8,
   "id": "c151901a-8d55-4ddb-8383-91594888fa00",
   "metadata": {},
   "outputs": [],
   "source": [
    "s=\"BMSCE\""
   ]
  },
  {
   "cell_type": "code",
   "execution_count": 9,
   "id": "365537b2-2337-4463-8087-842d888d1976",
   "metadata": {},
   "outputs": [
    {
     "data": {
      "text/plain": [
       "str"
      ]
     },
     "execution_count": 9,
     "metadata": {},
     "output_type": "execute_result"
    }
   ],
   "source": [
    "type(s)"
   ]
  },
  {
   "cell_type": "code",
   "execution_count": 10,
   "id": "895defdd-8464-499f-ba9a-819dd005f2f8",
   "metadata": {},
   "outputs": [
    {
     "ename": "TypeError",
     "evalue": "'str' object does not support item assignment",
     "output_type": "error",
     "traceback": [
      "\u001b[0;31m---------------------------------------------------------------------------\u001b[0m",
      "\u001b[0;31mTypeError\u001b[0m                                 Traceback (most recent call last)",
      "Cell \u001b[0;32mIn[10], line 1\u001b[0m\n\u001b[0;32m----> 1\u001b[0m \u001b[43ms\u001b[49m\u001b[43m[\u001b[49m\u001b[38;5;241;43m2\u001b[39;49m\u001b[43m]\u001b[49m\u001b[38;5;241m=\u001b[39m\u001b[38;5;124m'\u001b[39m\u001b[38;5;124mA\u001b[39m\u001b[38;5;124m'\u001b[39m\n",
      "\u001b[0;31mTypeError\u001b[0m: 'str' object does not support item assignment"
     ]
    }
   ],
   "source": [
    "s[2]='A'"
   ]
  },
  {
   "cell_type": "code",
   "execution_count": null,
   "id": "14c11b3d-f1ff-41d9-a766-fa39f9a4095b",
   "metadata": {},
   "outputs": [],
   "source": []
  }
 ],
 "metadata": {
  "kernelspec": {
   "display_name": "Python 3 (ipykernel)",
   "language": "python",
   "name": "python3"
  },
  "language_info": {
   "codemirror_mode": {
    "name": "ipython",
    "version": 3
   },
   "file_extension": ".py",
   "mimetype": "text/x-python",
   "name": "python",
   "nbconvert_exporter": "python",
   "pygments_lexer": "ipython3",
   "version": "3.10.8"
  }
 },
 "nbformat": 4,
 "nbformat_minor": 5
}
